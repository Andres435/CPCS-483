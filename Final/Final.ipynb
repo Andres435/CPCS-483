{
  "nbformat": 4,
  "nbformat_minor": 0,
  "metadata": {
    "colab": {
      "provenance": []
    },
    "kernelspec": {
      "name": "python3",
      "display_name": "Python 3"
    },
    "language_info": {
      "name": "python"
    }
  },
  "cells": [
    {
      "cell_type": "markdown",
      "source": [
        "# Convolutional Neural Network"
      ],
      "metadata": {
        "id": "5Z-euF-eAPZb"
      }
    },
    {
      "cell_type": "code",
      "source": [
        "from google.colab import drive\n",
        "drive.mount('/content/drive')\n",
        "import os\n",
        "#Changing the directory\n",
        "os.chdir('/content/drive/My Drive/CPCS 483/Final')"
      ],
      "metadata": {
        "colab": {
          "base_uri": "https://localhost:8080/"
        },
        "id": "45SG40fCFcBQ",
        "outputId": "97260b3c-fd6f-4d6e-dc52-eb59b16f2b13"
      },
      "execution_count": null,
      "outputs": [
        {
          "output_type": "stream",
          "name": "stdout",
          "text": [
            "Mounted at /content/drive\n"
          ]
        }
      ]
    },
    {
      "cell_type": "markdown",
      "source": [
        "## Importing the libraries"
      ],
      "metadata": {
        "id": "fBBcPkq7AT4O"
      }
    },
    {
      "cell_type": "code",
      "execution_count": null,
      "metadata": {
        "id": "ZCFjf5_sACn4"
      },
      "outputs": [],
      "source": [
        "import tensorflow as tf\n",
        "from tensorflow.keras import datasets, layers, models\n",
        "import matplotlib.pyplot as plt"
      ]
    },
    {
      "cell_type": "code",
      "source": [
        "tf.__version__"
      ],
      "metadata": {
        "colab": {
          "base_uri": "https://localhost:8080/",
          "height": 35
        },
        "id": "HpRhOI7kAfIc",
        "outputId": "62af4c90-b064-4aa3-f92b-6f7fa00b7236"
      },
      "execution_count": null,
      "outputs": [
        {
          "output_type": "execute_result",
          "data": {
            "text/plain": [
              "'2.14.0'"
            ],
            "application/vnd.google.colaboratory.intrinsic+json": {
              "type": "string"
            }
          },
          "metadata": {},
          "execution_count": 3
        }
      ]
    },
    {
      "cell_type": "markdown",
      "source": [
        "## Part 1 - Data Preprocessing"
      ],
      "metadata": {
        "id": "vF_q-VXNAh7N"
      }
    },
    {
      "cell_type": "markdown",
      "source": [
        "### Importing the dataset - preprocessing"
      ],
      "metadata": {
        "id": "Be6Q7NnTAlba"
      }
    },
    {
      "cell_type": "code",
      "source": [
        "(x_train, y_train), (x_test, y_test) = tf.keras.datasets.cifar10.load_data()\n",
        "x_train, x_test = x_train / 255.0, x_test / 255.0\n",
        "y_train, y_test = y_train.flatten(), y_test.flatten()"
      ],
      "metadata": {
        "id": "yN9NI9dyAkp5",
        "colab": {
          "base_uri": "https://localhost:8080/"
        },
        "outputId": "dfeb70bd-2c79-49c2-ed16-7f5cd0994332"
      },
      "execution_count": null,
      "outputs": [
        {
          "output_type": "stream",
          "name": "stdout",
          "text": [
            "Downloading data from https://www.cs.toronto.edu/~kriz/cifar-10-python.tar.gz\n",
            "170498071/170498071 [==============================] - 3s 0us/step\n"
          ]
        }
      ]
    },
    {
      "cell_type": "markdown",
      "source": [
        "## Part 2 - Building the CNN"
      ],
      "metadata": {
        "id": "Ir7U_eSyHGMA"
      }
    },
    {
      "cell_type": "markdown",
      "source": [
        "### Initializing the CNN"
      ],
      "metadata": {
        "id": "mLUqDNdEHJNl"
      }
    },
    {
      "cell_type": "code",
      "source": [
        "cnn = tf.keras.models.Sequential()"
      ],
      "metadata": {
        "id": "cIt5RNrpHHpk"
      },
      "execution_count": null,
      "outputs": []
    },
    {
      "cell_type": "markdown",
      "source": [
        "### Adding the input layer and the first hidden layer\n",
        "Step 1 - Convolution filters = numbers of feature detectors, kernel = size of feature detector 3 by 3, input shape of\n",
        "images RGB, black and white instead of 3 we need to choose 1"
      ],
      "metadata": {
        "id": "5aTWZTd_HOpE"
      }
    },
    {
      "cell_type": "code",
      "source": [
        "cnn.add(tf.keras.layers.Conv2D(filters=32, kernel_size=[3, 3], strides = [1, 1], activation='relu', padding='same'))"
      ],
      "metadata": {
        "id": "q6tLFD9lHTGk"
      },
      "execution_count": null,
      "outputs": []
    },
    {
      "cell_type": "markdown",
      "source": [
        "Step 2 - Batch Normalization Layer"
      ],
      "metadata": {
        "id": "L32oI8Wq8KZf"
      }
    },
    {
      "cell_type": "code",
      "source": [
        "cnn.add(layers.BatchNormalization())"
      ],
      "metadata": {
        "id": "ZoKmiyLZ8Ug6"
      },
      "execution_count": null,
      "outputs": []
    },
    {
      "cell_type": "markdown",
      "source": [
        "Step 3 - Pooling the size of the squre, stride the move or sliding"
      ],
      "metadata": {
        "id": "LbHqmscJAKTw"
      }
    },
    {
      "cell_type": "code",
      "source": [
        "cnn.add(tf.keras.layers.MaxPool2D(pool_size=2, strides=2, padding='valid'))"
      ],
      "metadata": {
        "id": "Ar3WxIjqALuJ"
      },
      "execution_count": null,
      "outputs": []
    },
    {
      "cell_type": "markdown",
      "source": [
        "### Adding the second convolutional layer"
      ],
      "metadata": {
        "id": "sPd4Duj5ICzz"
      }
    },
    {
      "cell_type": "code",
      "source": [
        "cnn.add(tf.keras.layers.Conv2D(filters=32, kernel_size=[3, 3], strides = [1, 1], activation='relu', padding='same'))\n",
        "cnn.add(layers.BatchNormalization())\n",
        "cnn.add(tf.keras.layers.MaxPool2D(pool_size=2, strides=2, padding='valid'))"
      ],
      "metadata": {
        "id": "EvUVV2iNIF3r"
      },
      "execution_count": null,
      "outputs": []
    },
    {
      "cell_type": "markdown",
      "source": [
        "### Adding the Third convolutional layer"
      ],
      "metadata": {
        "id": "Zm8Dd4As3TQF"
      }
    },
    {
      "cell_type": "code",
      "source": [
        "cnn.add(tf.keras.layers.Conv2D(filters=32, kernel_size=[3, 3], strides = [1, 1], activation='relu', padding='same'))\n",
        "cnn.add(layers.BatchNormalization())\n",
        "cnn.add(tf.keras.layers.MaxPool2D(pool_size=2, strides=2, padding='valid'))"
      ],
      "metadata": {
        "id": "PuWOoO4d3Qvx"
      },
      "execution_count": null,
      "outputs": []
    },
    {
      "cell_type": "markdown",
      "source": [
        "### Flattering"
      ],
      "metadata": {
        "id": "wt1ID8uVBnsI"
      }
    },
    {
      "cell_type": "code",
      "source": [
        "cnn.add(tf.keras.layers.Flatten())"
      ],
      "metadata": {
        "id": "prX_euW-BrXF"
      },
      "execution_count": null,
      "outputs": []
    },
    {
      "cell_type": "markdown",
      "source": [
        "### Dropout Layer"
      ],
      "metadata": {
        "id": "u5axtQM977eR"
      }
    },
    {
      "cell_type": "code",
      "source": [
        "cnn.add(layers.Dropout(0.2))"
      ],
      "metadata": {
        "id": "Rc9k7kks7_Fh"
      },
      "execution_count": null,
      "outputs": []
    },
    {
      "cell_type": "markdown",
      "source": [
        "### Full Connection - Dense Layer (2)"
      ],
      "metadata": {
        "id": "URXVyfhlB5ln"
      }
    },
    {
      "cell_type": "code",
      "source": [
        "cnn.add(tf.keras.layers.Dense(units=128, activation='relu'))\n",
        "cnn.add(tf.keras.layers.Dense(units=128, activation='relu'))"
      ],
      "metadata": {
        "id": "NbOJYSIdB9M8"
      },
      "execution_count": null,
      "outputs": []
    },
    {
      "cell_type": "markdown",
      "source": [
        "### Output Layer"
      ],
      "metadata": {
        "id": "wmHN1cnXCEpk"
      }
    },
    {
      "cell_type": "code",
      "source": [
        "cnn.add(tf.keras.layers.Dense(units=10, activation='softmax'))"
      ],
      "metadata": {
        "id": "Poosbt86CR8t"
      },
      "execution_count": null,
      "outputs": []
    },
    {
      "cell_type": "markdown",
      "source": [
        "## Part 3 - Training the CNN"
      ],
      "metadata": {
        "id": "pqturwavIX4h"
      }
    },
    {
      "cell_type": "markdown",
      "source": [
        "### Compiling the CNN"
      ],
      "metadata": {
        "id": "6Ac-urg1Kx0A"
      }
    },
    {
      "cell_type": "code",
      "source": [
        "cnn.compile(optimizer='adam', loss='sparse_categorical_crossentropy',  metrics=['sparse_categorical_accuracy'])"
      ],
      "metadata": {
        "id": "HXJyXtNCK3vx"
      },
      "execution_count": null,
      "outputs": []
    },
    {
      "cell_type": "markdown",
      "source": [
        "### Training the CNN on the Training set and evaluating it on the Test set"
      ],
      "metadata": {
        "id": "HvvYmb8RLBtg"
      }
    },
    {
      "cell_type": "code",
      "source": [
        "batch_size = 32\n",
        "epochs = 25\n",
        "history = cnn.fit(x_train, y_train, batch_size=batch_size, epochs=epochs, validation_split=0.2)"
      ],
      "metadata": {
        "colab": {
          "base_uri": "https://localhost:8080/"
        },
        "id": "m5pd3k9qLS7B",
        "outputId": "d5ae6a91-f996-48f2-e17d-bea5c4d8e17a"
      },
      "execution_count": null,
      "outputs": [
        {
          "output_type": "stream",
          "name": "stdout",
          "text": [
            "Epoch 1/25\n",
            "1250/1250 [==============================] - 85s 68ms/step - loss: 0.6170 - sparse_categorical_accuracy: 0.7807 - val_loss: 0.7876 - val_sparse_categorical_accuracy: 0.7353\n",
            "Epoch 2/25\n",
            "1250/1250 [==============================] - 88s 70ms/step - loss: 0.5869 - sparse_categorical_accuracy: 0.7894 - val_loss: 0.8260 - val_sparse_categorical_accuracy: 0.7225\n",
            "Epoch 3/25\n",
            "1250/1250 [==============================] - 85s 68ms/step - loss: 0.5586 - sparse_categorical_accuracy: 0.8011 - val_loss: 0.8530 - val_sparse_categorical_accuracy: 0.7189\n",
            "Epoch 4/25\n",
            "1250/1250 [==============================] - 83s 66ms/step - loss: 0.5312 - sparse_categorical_accuracy: 0.8106 - val_loss: 0.7824 - val_sparse_categorical_accuracy: 0.7417\n",
            "Epoch 5/25\n",
            "1250/1250 [==============================] - 85s 68ms/step - loss: 0.5074 - sparse_categorical_accuracy: 0.8198 - val_loss: 0.8004 - val_sparse_categorical_accuracy: 0.7429\n",
            "Epoch 6/25\n",
            "1250/1250 [==============================] - 86s 68ms/step - loss: 0.4846 - sparse_categorical_accuracy: 0.8264 - val_loss: 1.2766 - val_sparse_categorical_accuracy: 0.6394\n",
            "Epoch 7/25\n",
            "1250/1250 [==============================] - 86s 69ms/step - loss: 0.4679 - sparse_categorical_accuracy: 0.8327 - val_loss: 0.9071 - val_sparse_categorical_accuracy: 0.7193\n",
            "Epoch 8/25\n",
            "1250/1250 [==============================] - 88s 71ms/step - loss: 0.4460 - sparse_categorical_accuracy: 0.8388 - val_loss: 0.8673 - val_sparse_categorical_accuracy: 0.7275\n",
            "Epoch 9/25\n",
            "1250/1250 [==============================] - 85s 68ms/step - loss: 0.4313 - sparse_categorical_accuracy: 0.8454 - val_loss: 0.8782 - val_sparse_categorical_accuracy: 0.7311\n",
            "Epoch 10/25\n",
            "1250/1250 [==============================] - 83s 67ms/step - loss: 0.4195 - sparse_categorical_accuracy: 0.8496 - val_loss: 0.8709 - val_sparse_categorical_accuracy: 0.7355\n",
            "Epoch 11/25\n",
            "1250/1250 [==============================] - 83s 66ms/step - loss: 0.4003 - sparse_categorical_accuracy: 0.8568 - val_loss: 1.1081 - val_sparse_categorical_accuracy: 0.6869\n",
            "Epoch 12/25\n",
            "1250/1250 [==============================] - 84s 67ms/step - loss: 0.3871 - sparse_categorical_accuracy: 0.8596 - val_loss: 0.9501 - val_sparse_categorical_accuracy: 0.7179\n",
            "Epoch 13/25\n",
            "1250/1250 [==============================] - 85s 68ms/step - loss: 0.3808 - sparse_categorical_accuracy: 0.8631 - val_loss: 1.0793 - val_sparse_categorical_accuracy: 0.6974\n",
            "Epoch 14/25\n",
            "1250/1250 [==============================] - 85s 68ms/step - loss: 0.3716 - sparse_categorical_accuracy: 0.8669 - val_loss: 0.9596 - val_sparse_categorical_accuracy: 0.7334\n",
            "Epoch 15/25\n",
            "1250/1250 [==============================] - 88s 71ms/step - loss: 0.3584 - sparse_categorical_accuracy: 0.8696 - val_loss: 0.8862 - val_sparse_categorical_accuracy: 0.7437\n",
            "Epoch 16/25\n",
            "1250/1250 [==============================] - 85s 68ms/step - loss: 0.3479 - sparse_categorical_accuracy: 0.8750 - val_loss: 0.9176 - val_sparse_categorical_accuracy: 0.7356\n",
            "Epoch 17/25\n",
            "1250/1250 [==============================] - 84s 67ms/step - loss: 0.3435 - sparse_categorical_accuracy: 0.8757 - val_loss: 0.9346 - val_sparse_categorical_accuracy: 0.7425\n",
            "Epoch 18/25\n",
            "1250/1250 [==============================] - 84s 67ms/step - loss: 0.3333 - sparse_categorical_accuracy: 0.8795 - val_loss: 1.0335 - val_sparse_categorical_accuracy: 0.7205\n",
            "Epoch 19/25\n",
            "1250/1250 [==============================] - 86s 69ms/step - loss: 0.3218 - sparse_categorical_accuracy: 0.8839 - val_loss: 1.1348 - val_sparse_categorical_accuracy: 0.6971\n",
            "Epoch 20/25\n",
            "1250/1250 [==============================] - 86s 69ms/step - loss: 0.3134 - sparse_categorical_accuracy: 0.8868 - val_loss: 0.9607 - val_sparse_categorical_accuracy: 0.7332\n",
            "Epoch 21/25\n",
            "1250/1250 [==============================] - 85s 68ms/step - loss: 0.3052 - sparse_categorical_accuracy: 0.8888 - val_loss: 1.0274 - val_sparse_categorical_accuracy: 0.7239\n",
            "Epoch 22/25\n",
            "1250/1250 [==============================] - 85s 68ms/step - loss: 0.3004 - sparse_categorical_accuracy: 0.8917 - val_loss: 0.9449 - val_sparse_categorical_accuracy: 0.7452\n",
            "Epoch 23/25\n",
            "1250/1250 [==============================] - 84s 67ms/step - loss: 0.2985 - sparse_categorical_accuracy: 0.8912 - val_loss: 0.9848 - val_sparse_categorical_accuracy: 0.7307\n",
            "Epoch 24/25\n",
            "1250/1250 [==============================] - 83s 67ms/step - loss: 0.2913 - sparse_categorical_accuracy: 0.8969 - val_loss: 0.9340 - val_sparse_categorical_accuracy: 0.7469\n",
            "Epoch 25/25\n",
            "1250/1250 [==============================] - 84s 67ms/step - loss: 0.2890 - sparse_categorical_accuracy: 0.8969 - val_loss: 0.9129 - val_sparse_categorical_accuracy: 0.7553\n"
          ]
        }
      ]
    },
    {
      "cell_type": "markdown",
      "source": [
        "Obtaining the training and evaluation history"
      ],
      "metadata": {
        "id": "9BZKtD6MnbY7"
      }
    },
    {
      "cell_type": "code",
      "source": [
        "train_history = cnn.fit(x_train, y_train)\n",
        "evaluate_history = cnn.evaluate(x_test, y_test)"
      ],
      "metadata": {
        "colab": {
          "base_uri": "https://localhost:8080/"
        },
        "id": "uH-7paydngcX",
        "outputId": "790ffe27-64fc-42f7-efc4-26b71da6c36d"
      },
      "execution_count": null,
      "outputs": [
        {
          "output_type": "stream",
          "name": "stdout",
          "text": [
            "1563/1563 [==============================] - 105s 66ms/step - loss: 0.4278 - sparse_categorical_accuracy: 0.8604\n",
            "313/313 [==============================] - 7s 23ms/step - loss: 0.8293 - sparse_categorical_accuracy: 0.7441\n"
          ]
        }
      ]
    },
    {
      "cell_type": "markdown",
      "source": [
        "## Part 4 - Making the predictions and evaluating the model"
      ],
      "metadata": {
        "id": "ndilwfJwM1HV"
      }
    },
    {
      "cell_type": "markdown",
      "source": [
        "### Plotting the training history"
      ],
      "metadata": {
        "id": "gi-VKYsBC9OK"
      }
    },
    {
      "cell_type": "code",
      "source": [
        "plt.plot(history.history['sparse_categorical_accuracy'], label='Training Accuracy')\n",
        "plt.plot(history.history['val_sparse_categorical_accuracy'], label='Validation Accuracy')\n",
        "plt.title('Training and Validation Accuracy')\n",
        "plt.xlabel('Epoch')\n",
        "plt.ylabel('Accuracy')\n",
        "plt.legend()\n",
        "plt.show()"
      ],
      "metadata": {
        "id": "6WAuX7EeDGRm",
        "colab": {
          "base_uri": "https://localhost:8080/",
          "height": 472
        },
        "outputId": "4640ff08-ac89-464a-ee02-5bfa8f2faef0"
      },
      "execution_count": null,
      "outputs": [
        {
          "output_type": "display_data",
          "data": {
            "text/plain": [
              "<Figure size 640x480 with 1 Axes>"
            ],
            "image/png": "[encoded data removed]"
          },
          "metadata": {}
        }
      ]
    },
    {
      "cell_type": "markdown",
      "source": [
        "### Printing test accuracy"
      ],
      "metadata": {
        "id": "NmcbWSeJrvF2"
      }
    },
    {
      "cell_type": "code",
      "source": [
        "print(\"Test Accuracy:\", evaluate_history)"
      ],
      "metadata": {
        "colab": {
          "base_uri": "https://localhost:8080/"
        },
        "id": "187oKvQvND6F",
        "outputId": "1a8f4f21-a45a-4edb-9ae0-f3b805ee7bdd"
      },
      "execution_count": null,
      "outputs": [
        {
          "output_type": "stream",
          "name": "stdout",
          "text": [
            "Test Accuracy: [0.8293173909187317, 0.7440999746322632]\n"
          ]
        }
      ]
    },
    {
      "cell_type": "markdown",
      "source": [
        "### Making predictions on the test set"
      ],
      "metadata": {
        "id": "-sOTtrqary8l"
      }
    },
    {
      "cell_type": "code",
      "source": [
        "import numpy as np\n",
        "y_pred = np.argmax(cnn.predict(x_test), axis=1)"
      ],
      "metadata": {
        "colab": {
          "base_uri": "https://localhost:8080/"
        },
        "id": "e5g6UjEUDrAZ",
        "outputId": "25310b50-aef6-442d-b014-ef11c1153091"
      },
      "execution_count": null,
      "outputs": [
        {
          "output_type": "stream",
          "name": "stdout",
          "text": [
            "313/313 [==============================] - 8s 25ms/step\n"
          ]
        }
      ]
    },
    {
      "cell_type": "markdown",
      "source": [
        "### confusion matrix and classification report"
      ],
      "metadata": {
        "id": "_S0ax8egr3Jn"
      }
    },
    {
      "cell_type": "code",
      "source": [
        "from sklearn.metrics import confusion_matrix, classification_report\n",
        "print(\"Confusion Matrix:\\n\", confusion_matrix(y_test, y_pred))\n",
        "print(\"Classification Report:\\n\", classification_report(y_test, y_pred))"
      ],
      "metadata": {
        "colab": {
          "base_uri": "https://localhost:8080/"
        },
        "id": "TsRiGK_jr6yT",
        "outputId": "4613c78c-cc55-4526-f119-a7dc7b19bbad"
      },
      "execution_count": null,
      "outputs": [
        {
          "output_type": "stream",
          "name": "stdout",
          "text": [
            "Confusion Matrix:\n",
            " [[807  25  32  19  16   8   6  10  50  27]\n",
            " [ 18 886   6  14   0   4   4   6  20  42]\n",
            " [ 74   3 636  66  72  55  58  29   5   2]\n",
            " [ 26   4  65 552  54 202  52  35   3   7]\n",
            " [ 30   2  76  57 692  56  42  39   5   1]\n",
            " [ 14   3  33 173  28 691  17  35   2   4]\n",
            " [ 10   3  43  55  25  41 809   6   7   1]\n",
            " [ 19   3  30  32  48  56   9 797   3   3]\n",
            " [ 79  37  15  10  13  12   3   8 807  16]\n",
            " [ 42  95  11  21   4  12   4  19  28 764]]\n",
            "Classification Report:\n",
            "               precision    recall  f1-score   support\n",
            "\n",
            "           0       0.72      0.81      0.76      1000\n",
            "           1       0.84      0.89      0.86      1000\n",
            "           2       0.67      0.64      0.65      1000\n",
            "           3       0.55      0.55      0.55      1000\n",
            "           4       0.73      0.69      0.71      1000\n",
            "           5       0.61      0.69      0.65      1000\n",
            "           6       0.81      0.81      0.81      1000\n",
            "           7       0.81      0.80      0.80      1000\n",
            "           8       0.87      0.81      0.84      1000\n",
            "           9       0.88      0.76      0.82      1000\n",
            "\n",
            "    accuracy                           0.74     10000\n",
            "   macro avg       0.75      0.74      0.74     10000\n",
            "weighted avg       0.75      0.74      0.74     10000\n",
            "\n"
          ]
        }
      ]
    }
  ]
}